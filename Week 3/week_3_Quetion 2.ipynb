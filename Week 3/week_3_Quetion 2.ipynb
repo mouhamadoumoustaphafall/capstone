{
 "metadata": {
  "language_info": {
   "codemirror_mode": {
    "name": "ipython",
    "version": 3
   },
   "file_extension": ".py",
   "mimetype": "text/x-python",
   "name": "python",
   "nbconvert_exporter": "python",
   "pygments_lexer": "ipython3",
   "version": "3.8.5-final"
  },
  "orig_nbformat": 2,
  "kernelspec": {
   "name": "python38564bita9a9e3412f4e4308b7fec9753e28c0d2",
   "display_name": "Python 3.8.5 64-bit",
   "language": "python"
  }
 },
 "nbformat": 4,
 "nbformat_minor": 2,
 "cells": [
  {
   "source": [
    "***\n",
    "<center><h1 style=\"color:#28abb9;font-weight:bold;\">Neighborhoods data cleaning<h1/><center/>\n",
    "\n",
    "***"
   ],
   "cell_type": "markdown",
   "metadata": {}
  },
  {
   "cell_type": "code",
   "execution_count": 11,
   "metadata": {},
   "outputs": [
    {
     "output_type": "stream",
     "name": "stdout",
     "text": [
      "imports completed\n"
     ]
    }
   ],
   "source": [
    "import lxml.html as lh\n",
    "import pandas as pd\n",
    "import numpy as np\n",
    "print('imports completed')"
   ]
  },
  {
   "source": [
    "# Download wikipedia page"
   ],
   "cell_type": "markdown",
   "metadata": {}
  },
  {
   "cell_type": "code",
   "execution_count": 12,
   "metadata": {},
   "outputs": [
    {
     "output_type": "stream",
     "name": "stdout",
     "text": [
      "--2021-01-01 18:49:39--  http://wiki.txt/\n",
      "Resolving wiki.txt (wiki.txt)... failed: Name or service not known.\n",
      "wget: unable to resolve host address ‘wiki.txt’\n",
      "--2021-01-01 18:49:39--  https://en.wikipedia.org/wiki/List_of_postal_codes_of_Canada:_M\n",
      "Resolving en.wikipedia.org (en.wikipedia.org)... 91.198.174.192, 2620:0:862:ed1a::1\n",
      "Connecting to en.wikipedia.org (en.wikipedia.org)|91.198.174.192|:443... connected.\n",
      "HTTP request sent, awaiting response... 200 OK\n",
      "Length: 54812 (54K) [text/html]\n",
      "Saving to: ‘List_of_postal_codes_of_Canada:_M’\n",
      "\n",
      "List_of_postal_code 100%[===================>]  53.53K  --.-KB/s    in 0.1s    \n",
      "\n",
      "2021-01-01 18:49:40 (431 KB/s) - ‘List_of_postal_codes_of_Canada:_M’ saved [54812/54812]\n",
      "\n",
      "FINISHED --2021-01-01 18:49:40--\n",
      "Total wall clock time: 0.7s\n",
      "Downloaded: 1 files, 54K in 0.1s (431 KB/s)\n",
      "download complete\n"
     ]
    }
   ],
   "source": [
    "!wget wiki.txt https://en.wikipedia.org/wiki/List_of_postal_codes_of_Canada:_M\n",
    "print('download complete')"
   ]
  },
  {
   "source": [
    "# Extracting rows and columns"
   ],
   "cell_type": "markdown",
   "metadata": {}
  },
  {
   "cell_type": "code",
   "execution_count": 13,
   "metadata": {},
   "outputs": [
    {
     "output_type": "execute_result",
     "data": {
      "text/plain": [
       "[['M1A', 'Not assigned', 'Not assigned'],\n",
       " ['M2A', 'Not assigned', 'Not assigned'],\n",
       " ['M3A', 'North York', 'Parkwoods'],\n",
       " ['M4A', 'North York', 'Victoria Village'],\n",
       " ['M5A', 'Downtown Toronto', 'Regent Park, Harbourfront']]"
      ]
     },
     "metadata": {},
     "execution_count": 13
    }
   ],
   "source": [
    "file=open('List_of_postal_codes_of_Canada:_M','r')\n",
    "content=file.read()\n",
    "table_data=lh.fromstring(content).xpath('//tr')\n",
    "row_size=3\n",
    "#extracting columns\n",
    "columns=[]\n",
    "i=0\n",
    "for col in table_data[0]:\n",
    "    i=i+1\n",
    "    columns.append(col.text_content())\n",
    "columns\n",
    "#reformating columns array\n",
    "j=0\n",
    "for col in columns:\n",
    "    columns[j]=col[:col.find('\\n')]\n",
    "    j=j+1\n",
    "columns\n",
    "rows=[]\n",
    "#Extracting rows\n",
    "for i in range(1,len(table_data)):\n",
    "    row=table_data[i]\n",
    "    if len(row)!=3:\n",
    "        break\n",
    "    rows.append(row.text_content())\n",
    "\n",
    "for i,row in enumerate(rows):\n",
    "    rows[i]=row[1:len(row)-1].split('\\n\\n')\n",
    "rows[:5]"
   ]
  },
  {
   "source": [
    "# Dataframe creation"
   ],
   "cell_type": "markdown",
   "metadata": {}
  },
  {
   "cell_type": "code",
   "execution_count": 14,
   "metadata": {},
   "outputs": [
    {
     "output_type": "execute_result",
     "data": {
      "text/plain": [
       "     index Postal Code                Borough  \\\n",
       "0        2         M3A             North York   \n",
       "1        3         M4A             North York   \n",
       "2        4         M5A       Downtown Toronto   \n",
       "3        5         M6A             North York   \n",
       "4        6         M7A       Downtown Toronto   \n",
       "..     ...         ...                    ...   \n",
       "99     165         M4Y       Downtown Toronto   \n",
       "100    168         M7Y           East Toronto   \n",
       "101    169         M8Y              Etobicoke   \n",
       "102    178         M8Z              Etobicoke   \n",
       "103    180              Canadian postal codes   \n",
       "\n",
       "                                         Neighbourhood  \n",
       "0                                            Parkwoods  \n",
       "1                                     Victoria Village  \n",
       "2                            Regent Park, Harbourfront  \n",
       "3                     Lawrence Manor, Lawrence Heights  \n",
       "4          Queen's Park, Ontario Provincial Government  \n",
       "..                                                 ...  \n",
       "99                                Church and Wellesley  \n",
       "100  Business reply mail Processing Centre, South C...  \n",
       "101  Old Mill South, King's Mill Park, Sunnylea, Hu...  \n",
       "102  Mimico NW, The Queensway West, South of Bloor,...  \n",
       "103                                                     \n",
       "\n",
       "[104 rows x 4 columns]"
      ],
      "text/html": "<div>\n<style scoped>\n    .dataframe tbody tr th:only-of-type {\n        vertical-align: middle;\n    }\n\n    .dataframe tbody tr th {\n        vertical-align: top;\n    }\n\n    .dataframe thead th {\n        text-align: right;\n    }\n</style>\n<table border=\"1\" class=\"dataframe\">\n  <thead>\n    <tr style=\"text-align: right;\">\n      <th></th>\n      <th>index</th>\n      <th>Postal Code</th>\n      <th>Borough</th>\n      <th>Neighbourhood</th>\n    </tr>\n  </thead>\n  <tbody>\n    <tr>\n      <th>0</th>\n      <td>2</td>\n      <td>M3A</td>\n      <td>North York</td>\n      <td>Parkwoods</td>\n    </tr>\n    <tr>\n      <th>1</th>\n      <td>3</td>\n      <td>M4A</td>\n      <td>North York</td>\n      <td>Victoria Village</td>\n    </tr>\n    <tr>\n      <th>2</th>\n      <td>4</td>\n      <td>M5A</td>\n      <td>Downtown Toronto</td>\n      <td>Regent Park, Harbourfront</td>\n    </tr>\n    <tr>\n      <th>3</th>\n      <td>5</td>\n      <td>M6A</td>\n      <td>North York</td>\n      <td>Lawrence Manor, Lawrence Heights</td>\n    </tr>\n    <tr>\n      <th>4</th>\n      <td>6</td>\n      <td>M7A</td>\n      <td>Downtown Toronto</td>\n      <td>Queen's Park, Ontario Provincial Government</td>\n    </tr>\n    <tr>\n      <th>...</th>\n      <td>...</td>\n      <td>...</td>\n      <td>...</td>\n      <td>...</td>\n    </tr>\n    <tr>\n      <th>99</th>\n      <td>165</td>\n      <td>M4Y</td>\n      <td>Downtown Toronto</td>\n      <td>Church and Wellesley</td>\n    </tr>\n    <tr>\n      <th>100</th>\n      <td>168</td>\n      <td>M7Y</td>\n      <td>East Toronto</td>\n      <td>Business reply mail Processing Centre, South C...</td>\n    </tr>\n    <tr>\n      <th>101</th>\n      <td>169</td>\n      <td>M8Y</td>\n      <td>Etobicoke</td>\n      <td>Old Mill South, King's Mill Park, Sunnylea, Hu...</td>\n    </tr>\n    <tr>\n      <th>102</th>\n      <td>178</td>\n      <td>M8Z</td>\n      <td>Etobicoke</td>\n      <td>Mimico NW, The Queensway West, South of Bloor,...</td>\n    </tr>\n    <tr>\n      <th>103</th>\n      <td>180</td>\n      <td></td>\n      <td>Canadian postal codes</td>\n      <td></td>\n    </tr>\n  </tbody>\n</table>\n<p>104 rows × 4 columns</p>\n</div>"
     },
     "metadata": {},
     "execution_count": 14
    }
   ],
   "source": [
    "df=pd.DataFrame(data=rows,columns=columns,index=None)\n",
    "df.head()\n",
    "# removing null values\n",
    "df.loc[df['Borough']=='Not assigned']=np.nan\n",
    "df.dropna(axis=0,inplace=True)\n",
    "df.reset_index()\n"
   ]
  },
  {
   "cell_type": "code",
   "execution_count": 15,
   "metadata": {},
   "outputs": [
    {
     "output_type": "execute_result",
     "data": {
      "text/plain": [
       "Empty DataFrame\n",
       "Columns: [Postal Code, Borough, Neighbourhood]\n",
       "Index: []"
      ],
      "text/html": "<div>\n<style scoped>\n    .dataframe tbody tr th:only-of-type {\n        vertical-align: middle;\n    }\n\n    .dataframe tbody tr th {\n        vertical-align: top;\n    }\n\n    .dataframe thead th {\n        text-align: right;\n    }\n</style>\n<table border=\"1\" class=\"dataframe\">\n  <thead>\n    <tr style=\"text-align: right;\">\n      <th></th>\n      <th>Postal Code</th>\n      <th>Borough</th>\n      <th>Neighbourhood</th>\n    </tr>\n  </thead>\n  <tbody>\n  </tbody>\n</table>\n</div>"
     },
     "metadata": {},
     "execution_count": 15
    }
   ],
   "source": [
    "df.loc[df['Neighbourhood']=='Not assigned']"
   ]
  },
  {
   "source": [
    "# Editing not assigned neighbourhood\n"
   ],
   "cell_type": "markdown",
   "metadata": {}
  },
  {
   "cell_type": "code",
   "execution_count": null,
   "metadata": {},
   "outputs": [],
   "source": []
  },
  {
   "cell_type": "code",
   "execution_count": 16,
   "metadata": {},
   "outputs": [
    {
     "output_type": "execute_result",
     "data": {
      "text/plain": [
       "    Postal Code                Borough  \\\n",
       "2           M3A             North York   \n",
       "3           M4A             North York   \n",
       "4           M5A       Downtown Toronto   \n",
       "5           M6A             North York   \n",
       "6           M7A       Downtown Toronto   \n",
       "..          ...                    ...   \n",
       "165         M4Y       Downtown Toronto   \n",
       "168         M7Y           East Toronto   \n",
       "169         M8Y              Etobicoke   \n",
       "178         M8Z              Etobicoke   \n",
       "180              Canadian postal codes   \n",
       "\n",
       "                                         Neighbourhood  \n",
       "2                                            Parkwoods  \n",
       "3                                     Victoria Village  \n",
       "4                            Regent Park, Harbourfront  \n",
       "5                     Lawrence Manor, Lawrence Heights  \n",
       "6          Queen's Park, Ontario Provincial Government  \n",
       "..                                                 ...  \n",
       "165                               Church and Wellesley  \n",
       "168  Business reply mail Processing Centre, South C...  \n",
       "169  Old Mill South, King's Mill Park, Sunnylea, Hu...  \n",
       "178  Mimico NW, The Queensway West, South of Bloor,...  \n",
       "180                                                     \n",
       "\n",
       "[104 rows x 3 columns]"
      ],
      "text/html": "<div>\n<style scoped>\n    .dataframe tbody tr th:only-of-type {\n        vertical-align: middle;\n    }\n\n    .dataframe tbody tr th {\n        vertical-align: top;\n    }\n\n    .dataframe thead th {\n        text-align: right;\n    }\n</style>\n<table border=\"1\" class=\"dataframe\">\n  <thead>\n    <tr style=\"text-align: right;\">\n      <th></th>\n      <th>Postal Code</th>\n      <th>Borough</th>\n      <th>Neighbourhood</th>\n    </tr>\n  </thead>\n  <tbody>\n    <tr>\n      <th>2</th>\n      <td>M3A</td>\n      <td>North York</td>\n      <td>Parkwoods</td>\n    </tr>\n    <tr>\n      <th>3</th>\n      <td>M4A</td>\n      <td>North York</td>\n      <td>Victoria Village</td>\n    </tr>\n    <tr>\n      <th>4</th>\n      <td>M5A</td>\n      <td>Downtown Toronto</td>\n      <td>Regent Park, Harbourfront</td>\n    </tr>\n    <tr>\n      <th>5</th>\n      <td>M6A</td>\n      <td>North York</td>\n      <td>Lawrence Manor, Lawrence Heights</td>\n    </tr>\n    <tr>\n      <th>6</th>\n      <td>M7A</td>\n      <td>Downtown Toronto</td>\n      <td>Queen's Park, Ontario Provincial Government</td>\n    </tr>\n    <tr>\n      <th>...</th>\n      <td>...</td>\n      <td>...</td>\n      <td>...</td>\n    </tr>\n    <tr>\n      <th>165</th>\n      <td>M4Y</td>\n      <td>Downtown Toronto</td>\n      <td>Church and Wellesley</td>\n    </tr>\n    <tr>\n      <th>168</th>\n      <td>M7Y</td>\n      <td>East Toronto</td>\n      <td>Business reply mail Processing Centre, South C...</td>\n    </tr>\n    <tr>\n      <th>169</th>\n      <td>M8Y</td>\n      <td>Etobicoke</td>\n      <td>Old Mill South, King's Mill Park, Sunnylea, Hu...</td>\n    </tr>\n    <tr>\n      <th>178</th>\n      <td>M8Z</td>\n      <td>Etobicoke</td>\n      <td>Mimico NW, The Queensway West, South of Bloor,...</td>\n    </tr>\n    <tr>\n      <th>180</th>\n      <td></td>\n      <td>Canadian postal codes</td>\n      <td></td>\n    </tr>\n  </tbody>\n</table>\n<p>104 rows × 3 columns</p>\n</div>"
     },
     "metadata": {},
     "execution_count": 16
    }
   ],
   "source": [
    "for index,row in df.iterrows():\n",
    "    if row['Neighbourhood']=='Not assigned':\n",
    "        row['Neighbourhood']=row['Borough']\n",
    "\n",
    "df"
   ]
  },
  {
   "cell_type": "code",
   "execution_count": 17,
   "metadata": {},
   "outputs": [
    {
     "output_type": "execute_result",
     "data": {
      "text/plain": [
       "(104, 3)"
      ]
     },
     "metadata": {},
     "execution_count": 17
    }
   ],
   "source": [
    "df.shape"
   ]
  },
  {
   "source": [
    "# LOading geospatial data"
   ],
   "cell_type": "markdown",
   "metadata": {}
  },
  {
   "cell_type": "code",
   "execution_count": 18,
   "metadata": {},
   "outputs": [
    {
     "output_type": "stream",
     "name": "stdout",
     "text": [
      "--2021-01-01 18:49:41--  https://cocl.us/Geospatial_data\n",
      "Resolving cocl.us (cocl.us)... 169.63.96.176, 169.63.96.194\n",
      "Connecting to cocl.us (cocl.us)|169.63.96.176|:443... connected.\n",
      "HTTP request sent, awaiting response... 301 Moved Permanently\n",
      "Location: https://ibm.box.com/shared/static/9afzr83pps4pwf2smjjcf1y5mvgb18rr.csv [following]\n",
      "--2021-01-01 18:49:42--  https://ibm.box.com/shared/static/9afzr83pps4pwf2smjjcf1y5mvgb18rr.csv\n",
      "Resolving ibm.box.com (ibm.box.com)... 107.152.25.197\n",
      "Connecting to ibm.box.com (ibm.box.com)|107.152.25.197|:443... connected.\n",
      "HTTP request sent, awaiting response... 301 Moved Permanently\n",
      "Location: /public/static/9afzr83pps4pwf2smjjcf1y5mvgb18rr.csv [following]\n",
      "--2021-01-01 18:49:43--  https://ibm.box.com/public/static/9afzr83pps4pwf2smjjcf1y5mvgb18rr.csv\n",
      "Reusing existing connection to ibm.box.com:443.\n",
      "HTTP request sent, awaiting response... 301 Moved Permanently\n",
      "Location: https://ibm.ent.box.com/public/static/9afzr83pps4pwf2smjjcf1y5mvgb18rr.csv [following]\n",
      "--2021-01-01 18:49:43--  https://ibm.ent.box.com/public/static/9afzr83pps4pwf2smjjcf1y5mvgb18rr.csv\n",
      "Resolving ibm.ent.box.com (ibm.ent.box.com)... 185.235.236.201\n",
      "Connecting to ibm.ent.box.com (ibm.ent.box.com)|185.235.236.201|:443... connected.\n",
      "HTTP request sent, awaiting response... 302 Found\n",
      "Location: https://public.boxcloud.com/d/1/b1!6gXP4b8y2c682v-5Mhl87HVGA5YMMJ_ifgrnga-ySFxj-PF6LRXJKhTp88zSkyTi14mrfEfMxtiZ8JGbNkvdsYh6X5lMnFadv-I9fINtqGLPw8nP1NLQfnSbEhVYuRGe188-KATFOWuMVxoOAdiTZLN2evukM8ghjBuTkdnV8yFStG5P_AuNdIi4hco6pg5CpSHalmo7zSwzW14N_txWYus63nuibeApc9Qk9R8gh39CjRVDopvFTTsFm8rXfEqzMdfofGUKSn894L7hL1IUR3yl7TwoeG1dFeVenZR8P7l_uTOjCIgMhKSHejjDbtEW0-t4HkVNGV6iKwsTuLVHZ8xKwzUsg8qroE7_2JWi4BHdmXiD7P4CS6kAwjqcCPkmqJXybH_A22ilQyyBoVWVL5UTWSs_K4rZbTWZ8ZK9GkcGjiqjMJcHALAuuWtF42PXdrndj8amtNOAXoOgd4JcUXiQJwJHTYjSvBLhU80LrY-RMpZoHFSUrJU5kCpd5dJiRqbs5ml0E01ZDBkDlzDDTO5uOraoRWiuCM7wjv3MXRSK7fH7n9690OpSQSGXIUUGjQ7NoqrFDnsoFEXV65--FOaK9ue7-MiFVbFXVJiQ8UA8-opjRKRjkleHrO7NyB9is2hRj0KMzKcgDwZ9UNsDERda7jHzh9fAQtoOXq_w9EGPWrJfdYGMATMpIdiFgjH_Gs23UZa7kQOmWTymZ7Sb2lektDPkv8Co5oyujyEvHS3LvLEOpo8XULIlWnrfZ4Vx6qNZ0RVYv_5M2X18TFq4SlmgR1Kng9OED3frgqET8Gg1EfOvmzowDe_U20KHxwKY19DoqcwwZt1JKfaJcNShOokxefPLv6_JCbLgzQYOUmxt9kkgPu7sWu1Zj-dwdX__TrRk-ENTNxWfT47xbl3WrixeA09H3rWzNb-K_6vzBQUTud-mLFmmDBpQt7HuRcq4z_nV3hZ2G-nAQxsYlAmuqqYoJLI9FQD7F2YTw2F-Jklbe60XOHe8DfZEazr1b3F501mk12a538pluzoPgrnn6MRiXP_fZQQ-IzTEwp35EOO14495FSRZ2__OZQTOfCkmf6hU2kOgIeFmHkjdaTGXmDqjEiL6Q9K3w-4FR_edvBin1bQYn-IEk66p8QLAm1x4s1nw0jUTmJ4OmixntSHmebwdCtPz0zPVf4UazHJBu2FQ9VIzKi6T5oIXGdS28Rkn-5WJPChx75yPbYTWteTJLhoiqGGT0wQsLJ2zFovA_fY5MD6jIRrEVsga3DvA_KBZ5lychKXn4EnKb8DsLv9avaE4mAzfBBohx3uz7BYWzc7Hp8Lc-APWZ4SoNyEzWKpal7VjUiIpiS81iy53K_4ynTSfN-rYtdb1JP_cCFodenytB1LXDgjkhMRzpL4CBeJ9jPp9SpJgfCY5eP9-5pIKewH4ApE-bDKY6Va0lWRf4hY./download [following]\n",
      "--2021-01-01 18:49:44--  https://public.boxcloud.com/d/1/b1!6gXP4b8y2c682v-5Mhl87HVGA5YMMJ_ifgrnga-ySFxj-PF6LRXJKhTp88zSkyTi14mrfEfMxtiZ8JGbNkvdsYh6X5lMnFadv-I9fINtqGLPw8nP1NLQfnSbEhVYuRGe188-KATFOWuMVxoOAdiTZLN2evukM8ghjBuTkdnV8yFStG5P_AuNdIi4hco6pg5CpSHalmo7zSwzW14N_txWYus63nuibeApc9Qk9R8gh39CjRVDopvFTTsFm8rXfEqzMdfofGUKSn894L7hL1IUR3yl7TwoeG1dFeVenZR8P7l_uTOjCIgMhKSHejjDbtEW0-t4HkVNGV6iKwsTuLVHZ8xKwzUsg8qroE7_2JWi4BHdmXiD7P4CS6kAwjqcCPkmqJXybH_A22ilQyyBoVWVL5UTWSs_K4rZbTWZ8ZK9GkcGjiqjMJcHALAuuWtF42PXdrndj8amtNOAXoOgd4JcUXiQJwJHTYjSvBLhU80LrY-RMpZoHFSUrJU5kCpd5dJiRqbs5ml0E01ZDBkDlzDDTO5uOraoRWiuCM7wjv3MXRSK7fH7n9690OpSQSGXIUUGjQ7NoqrFDnsoFEXV65--FOaK9ue7-MiFVbFXVJiQ8UA8-opjRKRjkleHrO7NyB9is2hRj0KMzKcgDwZ9UNsDERda7jHzh9fAQtoOXq_w9EGPWrJfdYGMATMpIdiFgjH_Gs23UZa7kQOmWTymZ7Sb2lektDPkv8Co5oyujyEvHS3LvLEOpo8XULIlWnrfZ4Vx6qNZ0RVYv_5M2X18TFq4SlmgR1Kng9OED3frgqET8Gg1EfOvmzowDe_U20KHxwKY19DoqcwwZt1JKfaJcNShOokxefPLv6_JCbLgzQYOUmxt9kkgPu7sWu1Zj-dwdX__TrRk-ENTNxWfT47xbl3WrixeA09H3rWzNb-K_6vzBQUTud-mLFmmDBpQt7HuRcq4z_nV3hZ2G-nAQxsYlAmuqqYoJLI9FQD7F2YTw2F-Jklbe60XOHe8DfZEazr1b3F501mk12a538pluzoPgrnn6MRiXP_fZQQ-IzTEwp35EOO14495FSRZ2__OZQTOfCkmf6hU2kOgIeFmHkjdaTGXmDqjEiL6Q9K3w-4FR_edvBin1bQYn-IEk66p8QLAm1x4s1nw0jUTmJ4OmixntSHmebwdCtPz0zPVf4UazHJBu2FQ9VIzKi6T5oIXGdS28Rkn-5WJPChx75yPbYTWteTJLhoiqGGT0wQsLJ2zFovA_fY5MD6jIRrEVsga3DvA_KBZ5lychKXn4EnKb8DsLv9avaE4mAzfBBohx3uz7BYWzc7Hp8Lc-APWZ4SoNyEzWKpal7VjUiIpiS81iy53K_4ynTSfN-rYtdb1JP_cCFodenytB1LXDgjkhMRzpL4CBeJ9jPp9SpJgfCY5eP9-5pIKewH4ApE-bDKY6Va0lWRf4hY./download\n",
      "Resolving public.boxcloud.com (public.boxcloud.com)... 107.152.25.200\n",
      "Connecting to public.boxcloud.com (public.boxcloud.com)|107.152.25.200|:443... connected.\n",
      "HTTP request sent, awaiting response... 200 OK\n",
      "Length: 2891 (2.8K) [text/csv]\n",
      "Saving to: ‘Geospatial_data.1’\n",
      "\n",
      "Geospatial_data.1   100%[===================>]   2.82K  --.-KB/s    in 0s      \n",
      "\n",
      "2021-01-01 18:49:45 (196 MB/s) - ‘Geospatial_data.1’ saved [2891/2891]\n",
      "\n"
     ]
    }
   ],
   "source": [
    "!wget https://cocl.us/Geospatial_data"
   ]
  },
  {
   "cell_type": "code",
   "execution_count": 19,
   "metadata": {},
   "outputs": [
    {
     "output_type": "execute_result",
     "data": {
      "text/plain": [
       "    Postal Code   Latitude  Longitude\n",
       "0           M1B  43.806686 -79.194353\n",
       "1           M1C  43.784535 -79.160497\n",
       "2           M1E  43.763573 -79.188711\n",
       "3           M1G  43.770992 -79.216917\n",
       "4           M1H  43.773136 -79.239476\n",
       "..          ...        ...        ...\n",
       "98          M9N  43.706876 -79.518188\n",
       "99          M9P  43.696319 -79.532242\n",
       "100         M9R  43.688905 -79.554724\n",
       "101         M9V  43.739416 -79.588437\n",
       "102         M9W  43.706748 -79.594054\n",
       "\n",
       "[103 rows x 3 columns]"
      ],
      "text/html": "<div>\n<style scoped>\n    .dataframe tbody tr th:only-of-type {\n        vertical-align: middle;\n    }\n\n    .dataframe tbody tr th {\n        vertical-align: top;\n    }\n\n    .dataframe thead th {\n        text-align: right;\n    }\n</style>\n<table border=\"1\" class=\"dataframe\">\n  <thead>\n    <tr style=\"text-align: right;\">\n      <th></th>\n      <th>Postal Code</th>\n      <th>Latitude</th>\n      <th>Longitude</th>\n    </tr>\n  </thead>\n  <tbody>\n    <tr>\n      <th>0</th>\n      <td>M1B</td>\n      <td>43.806686</td>\n      <td>-79.194353</td>\n    </tr>\n    <tr>\n      <th>1</th>\n      <td>M1C</td>\n      <td>43.784535</td>\n      <td>-79.160497</td>\n    </tr>\n    <tr>\n      <th>2</th>\n      <td>M1E</td>\n      <td>43.763573</td>\n      <td>-79.188711</td>\n    </tr>\n    <tr>\n      <th>3</th>\n      <td>M1G</td>\n      <td>43.770992</td>\n      <td>-79.216917</td>\n    </tr>\n    <tr>\n      <th>4</th>\n      <td>M1H</td>\n      <td>43.773136</td>\n      <td>-79.239476</td>\n    </tr>\n    <tr>\n      <th>...</th>\n      <td>...</td>\n      <td>...</td>\n      <td>...</td>\n    </tr>\n    <tr>\n      <th>98</th>\n      <td>M9N</td>\n      <td>43.706876</td>\n      <td>-79.518188</td>\n    </tr>\n    <tr>\n      <th>99</th>\n      <td>M9P</td>\n      <td>43.696319</td>\n      <td>-79.532242</td>\n    </tr>\n    <tr>\n      <th>100</th>\n      <td>M9R</td>\n      <td>43.688905</td>\n      <td>-79.554724</td>\n    </tr>\n    <tr>\n      <th>101</th>\n      <td>M9V</td>\n      <td>43.739416</td>\n      <td>-79.588437</td>\n    </tr>\n    <tr>\n      <th>102</th>\n      <td>M9W</td>\n      <td>43.706748</td>\n      <td>-79.594054</td>\n    </tr>\n  </tbody>\n</table>\n<p>103 rows × 3 columns</p>\n</div>"
     },
     "metadata": {},
     "execution_count": 19
    }
   ],
   "source": [
    "df_geo=pd.read_csv('Geospatial_data')\n",
    "df_geo"
   ]
  },
  {
   "cell_type": "code",
   "execution_count": 20,
   "metadata": {},
   "outputs": [
    {
     "output_type": "execute_result",
     "data": {
      "text/plain": [
       "    Postal Code                Borough  \\\n",
       "2           M3A             North York   \n",
       "3           M4A             North York   \n",
       "4           M5A       Downtown Toronto   \n",
       "5           M6A             North York   \n",
       "6           M7A       Downtown Toronto   \n",
       "..          ...                    ...   \n",
       "165         M4Y       Downtown Toronto   \n",
       "168         M7Y           East Toronto   \n",
       "169         M8Y              Etobicoke   \n",
       "178         M8Z              Etobicoke   \n",
       "180              Canadian postal codes   \n",
       "\n",
       "                                         Neighbourhood   Latitude  Longitude  \n",
       "2                                            Parkwoods  43.753259 -79.329656  \n",
       "3                                     Victoria Village  43.725882 -79.315572  \n",
       "4                            Regent Park, Harbourfront  43.654260 -79.360636  \n",
       "5                     Lawrence Manor, Lawrence Heights  43.718518 -79.464763  \n",
       "6          Queen's Park, Ontario Provincial Government  43.662301 -79.389494  \n",
       "..                                                 ...        ...        ...  \n",
       "165                               Church and Wellesley  43.665860 -79.383160  \n",
       "168  Business reply mail Processing Centre, South C...  43.662744 -79.321558  \n",
       "169  Old Mill South, King's Mill Park, Sunnylea, Hu...  43.636258 -79.498509  \n",
       "178  Mimico NW, The Queensway West, South of Bloor,...  43.628841 -79.520999  \n",
       "180                                                           NaN        NaN  \n",
       "\n",
       "[104 rows x 5 columns]"
      ],
      "text/html": "<div>\n<style scoped>\n    .dataframe tbody tr th:only-of-type {\n        vertical-align: middle;\n    }\n\n    .dataframe tbody tr th {\n        vertical-align: top;\n    }\n\n    .dataframe thead th {\n        text-align: right;\n    }\n</style>\n<table border=\"1\" class=\"dataframe\">\n  <thead>\n    <tr style=\"text-align: right;\">\n      <th></th>\n      <th>Postal Code</th>\n      <th>Borough</th>\n      <th>Neighbourhood</th>\n      <th>Latitude</th>\n      <th>Longitude</th>\n    </tr>\n  </thead>\n  <tbody>\n    <tr>\n      <th>2</th>\n      <td>M3A</td>\n      <td>North York</td>\n      <td>Parkwoods</td>\n      <td>43.753259</td>\n      <td>-79.329656</td>\n    </tr>\n    <tr>\n      <th>3</th>\n      <td>M4A</td>\n      <td>North York</td>\n      <td>Victoria Village</td>\n      <td>43.725882</td>\n      <td>-79.315572</td>\n    </tr>\n    <tr>\n      <th>4</th>\n      <td>M5A</td>\n      <td>Downtown Toronto</td>\n      <td>Regent Park, Harbourfront</td>\n      <td>43.654260</td>\n      <td>-79.360636</td>\n    </tr>\n    <tr>\n      <th>5</th>\n      <td>M6A</td>\n      <td>North York</td>\n      <td>Lawrence Manor, Lawrence Heights</td>\n      <td>43.718518</td>\n      <td>-79.464763</td>\n    </tr>\n    <tr>\n      <th>6</th>\n      <td>M7A</td>\n      <td>Downtown Toronto</td>\n      <td>Queen's Park, Ontario Provincial Government</td>\n      <td>43.662301</td>\n      <td>-79.389494</td>\n    </tr>\n    <tr>\n      <th>...</th>\n      <td>...</td>\n      <td>...</td>\n      <td>...</td>\n      <td>...</td>\n      <td>...</td>\n    </tr>\n    <tr>\n      <th>165</th>\n      <td>M4Y</td>\n      <td>Downtown Toronto</td>\n      <td>Church and Wellesley</td>\n      <td>43.665860</td>\n      <td>-79.383160</td>\n    </tr>\n    <tr>\n      <th>168</th>\n      <td>M7Y</td>\n      <td>East Toronto</td>\n      <td>Business reply mail Processing Centre, South C...</td>\n      <td>43.662744</td>\n      <td>-79.321558</td>\n    </tr>\n    <tr>\n      <th>169</th>\n      <td>M8Y</td>\n      <td>Etobicoke</td>\n      <td>Old Mill South, King's Mill Park, Sunnylea, Hu...</td>\n      <td>43.636258</td>\n      <td>-79.498509</td>\n    </tr>\n    <tr>\n      <th>178</th>\n      <td>M8Z</td>\n      <td>Etobicoke</td>\n      <td>Mimico NW, The Queensway West, South of Bloor,...</td>\n      <td>43.628841</td>\n      <td>-79.520999</td>\n    </tr>\n    <tr>\n      <th>180</th>\n      <td></td>\n      <td>Canadian postal codes</td>\n      <td></td>\n      <td>NaN</td>\n      <td>NaN</td>\n    </tr>\n  </tbody>\n</table>\n<p>104 rows × 5 columns</p>\n</div>"
     },
     "metadata": {},
     "execution_count": 20
    }
   ],
   "source": [
    "for i,row_g in df_geo.iterrows():\n",
    "    for j,row in df.iterrows():\n",
    "        if (row['Postal Code']==row_g['Postal Code']):\n",
    "            df.loc[df['Postal Code']==row['Postal Code'],['Latitude']]=row_g['Latitude']\n",
    "            df.loc[df['Postal Code']==row['Postal Code'],['Longitude']]=row_g['Longitude']\n",
    "df "
   ]
  }
 ]
}